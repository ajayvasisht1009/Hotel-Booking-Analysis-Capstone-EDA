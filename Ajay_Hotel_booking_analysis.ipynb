{
  "nbformat": 4,
  "nbformat_minor": 0,
  "metadata": {
    "colab": {
      "private_outputs": true,
      "provenance": [],
      "collapsed_sections": [
        "vncDsAP0Gaoa",
        "FJNUwmbgGyua",
        "w6K7xa23Elo4",
        "yQaldy8SH6Dl",
        "PH-0ReGfmX4f",
        "mDgbUHAGgjLW",
        "iky9q4vBYrdO",
        "F6T5p64dYrdO",
        "y-Ehk30pYrdP",
        "QHF8YVU7Yuh3",
        "GwzvFGzlYuh3",
        "qYpmQ266Yuh3",
        "Seke61FWphqN",
        "t27r6nlMphqO",
        "r2jJGEOYphqO",
        "b0JNsNcRphqO",
        "jj7wYXLtphqO",
        "eZrbJ2SmphqO",
        "rFu4xreNphqO",
        "gCFgpxoyphqP",
        "OVtJsKN_phqQ",
        "lssrdh5qphqQ",
        "1M8mcRywphqQ",
        "tgIPom80phqQ",
        "JMzcOPDDphqR",
        "gIfDvo9L0UH2"
      ],
      "include_colab_link": true
    },
    "kernelspec": {
      "name": "python3",
      "display_name": "Python 3"
    },
    "language_info": {
      "name": "python"
    }
  },
  "cells": [
    {
      "cell_type": "markdown",
      "metadata": {
        "id": "view-in-github",
        "colab_type": "text"
      },
      "source": [
        "<a href=\"https://colab.research.google.com/github/ajayvasisht1009/Hotel-Booking-Analysis-Capstone-EDA/blob/main/Ajay_Hotel_booking_analysis.ipynb\" target=\"_parent\"><img src=\"https://colab.research.google.com/assets/colab-badge.svg\" alt=\"Open In Colab\"/></a>"
      ]
    },
    {
      "cell_type": "markdown",
      "source": [
        "# **Project Name**    - Hotel Booking Analysis\n",
        "\n"
      ],
      "metadata": {
        "id": "vncDsAP0Gaoa"
      }
    },
    {
      "cell_type": "markdown",
      "source": [
        "##### **Project Type**    - EDA\n",
        "##### **Contribution**    - Individual\n"
      ],
      "metadata": {
        "id": "beRrZCGUAJYm"
      }
    },
    {
      "cell_type": "markdown",
      "source": [
        "# **Project Summary -**"
      ],
      "metadata": {
        "id": "FJNUwmbgGyua"
      }
    },
    {
      "cell_type": "markdown",
      "source": [
        "This dataset is related to Hotel bookings. What are the key factors people make their hotel booking. It can be related to aything like daily rates, weather, parking space, other hotel facilities. This dataset contains the information of city and resort hotels with the information of length of stay, the number of people including adults, childrens and babies, waiting time and other hotel facilities."
      ],
      "metadata": {
        "id": "F6v_1wHtG2nS"
      }
    },
    {
      "cell_type": "markdown",
      "source": [
        "# **GitHub Link -**"
      ],
      "metadata": {
        "id": "w6K7xa23Elo4"
      }
    },
    {
      "cell_type": "markdown",
      "source": [
        "https://github.com/ajayvasisht1009/Hotel-booking-Analysis"
      ],
      "metadata": {
        "id": "h1o69JH3Eqqn"
      }
    },
    {
      "cell_type": "markdown",
      "source": [
        "# **Problem Statement**\n"
      ],
      "metadata": {
        "id": "yQaldy8SH6Dl"
      }
    },
    {
      "cell_type": "markdown",
      "source": [
        "**BUSINESS PROBLEM OVERVIEW**\n",
        "\n",
        "Hotel booking is generally depends on the availability of the hotels, daily rates and facilities provided to the curstomers.\n",
        "While booking hotels customers have various options available online however what attracts them is the daily rates and available facilities. Also, customers look for availability of the rooms for the number of members they are making booking, length of stay, arrival date and previous cancellation history."
      ],
      "metadata": {
        "id": "DpeJGUA3kjGy"
      }
    },
    {
      "cell_type": "markdown",
      "source": [
        "#### **Define Your Business Objective?**"
      ],
      "metadata": {
        "id": "PH-0ReGfmX4f"
      }
    },
    {
      "cell_type": "markdown",
      "source": [
        "Factors leads to hotel booking and reducing cancellations"
      ],
      "metadata": {
        "id": "PhDvGCAqmjP1"
      }
    },
    {
      "cell_type": "markdown",
      "source": [
        "# **General Guidelines** : -  "
      ],
      "metadata": {
        "id": "mDgbUHAGgjLW"
      }
    },
    {
      "cell_type": "markdown",
      "source": [
        "1.   Well-structured, formatted, and commented code is required.\n",
        "2.   Exception Handling, Production Grade Code & Deployment Ready Code will be a plus. Those students will be awarded some additional credits.\n",
        "     \n",
        "     The additional credits will have advantages over other students during Star Student selection.\n",
        "       \n",
        "             [ Note: - Deployment Ready Code is defined as, the whole .ipynb notebook should be executable in one go\n",
        "                       without a single error logged. ]\n",
        "\n",
        "3.   Each and every logic should have proper comments.\n",
        "4. You may add as many number of charts you want. Make Sure for each and every chart the following format should be answered.\n",
        "        \n",
        "\n",
        "```\n",
        "# Chart visualization code\n",
        "```\n",
        "            \n",
        "\n",
        "*   Why did you pick the specific chart?\n",
        "*   What is/are the insight(s) found from the chart?\n",
        "* Will the gained insights help creating a positive business impact?\n",
        "Are there any insights that lead to negative growth? Justify with specific reason.\n",
        "\n",
        "5. You have to create at least 20 logical & meaningful charts having important insights.\n",
        "\n",
        "\n",
        "[ Hints : - Do the Vizualization in  a structured way while following \"UBM\" Rule.\n",
        "\n",
        "U - Univariate Analysis,\n",
        "\n",
        "B - Bivariate Analysis (Numerical - Categorical, Numerical - Numerical, Categorical - Categorical)\n",
        "\n",
        "M - Multivariate Analysis\n",
        " ]\n",
        "\n",
        "\n",
        "\n"
      ],
      "metadata": {
        "id": "ZrxVaUj-hHfC"
      }
    },
    {
      "cell_type": "markdown",
      "source": [
        "# ***Let's Begin !***"
      ],
      "metadata": {
        "id": "O_i_v8NEhb9l"
      }
    },
    {
      "cell_type": "markdown",
      "source": [
        "## ***1. Know Your Data***"
      ],
      "metadata": {
        "id": "HhfV-JJviCcP"
      }
    },
    {
      "cell_type": "markdown",
      "source": [
        "### Import Libraries"
      ],
      "metadata": {
        "id": "Y3lxredqlCYt"
      }
    },
    {
      "cell_type": "code",
      "source": [
        "# Import Libraries\n",
        "import numpy as np\n",
        "import pandas as pd\n",
        "import matplotlib.pyplot as plt\n",
        "import seaborn as sns"
      ],
      "metadata": {
        "id": "M8Vqi-pPk-HR"
      },
      "execution_count": null,
      "outputs": []
    },
    {
      "cell_type": "markdown",
      "source": [
        "### Dataset Loading"
      ],
      "metadata": {
        "id": "3RnN4peoiCZX"
      }
    },
    {
      "cell_type": "code",
      "source": [
        "#mount the dataset fro google drive\n",
        "from google.colab import drive\n",
        "drive.mount('/content/drive')"
      ],
      "metadata": {
        "id": "_gts5s223irw"
      },
      "execution_count": null,
      "outputs": []
    },
    {
      "cell_type": "code",
      "source": [
        "# Load Dataset\n",
        "#store the path of the dataset in a variable\n",
        "path = '/content/drive/MyDrive/Colab Notebooks/Hotel Bookings.csv'\n",
        "\n",
        "#load the dataset through pandas\n",
        "dataset = pd.read_csv(path)"
      ],
      "metadata": {
        "id": "4CkvbW_SlZ_R"
      },
      "execution_count": null,
      "outputs": []
    },
    {
      "cell_type": "markdown",
      "source": [
        "### Dataset First View"
      ],
      "metadata": {
        "id": "x71ZqKXriCWQ"
      }
    },
    {
      "cell_type": "code",
      "source": [
        "# Dataset First Look\n",
        "dataset.head()"
      ],
      "metadata": {
        "id": "LWNFOSvLl09H"
      },
      "execution_count": null,
      "outputs": []
    },
    {
      "cell_type": "markdown",
      "source": [
        "### Dataset Rows & Columns count"
      ],
      "metadata": {
        "id": "7hBIi_osiCS2"
      }
    },
    {
      "cell_type": "code",
      "source": [
        "# Dataset Rows & Columns count\n",
        "dataset.shape"
      ],
      "metadata": {
        "id": "Kllu7SJgmLij"
      },
      "execution_count": null,
      "outputs": []
    },
    {
      "cell_type": "code",
      "source": [
        "#creat a copy of dataset and assigning to df\n",
        "df = dataset.copy()"
      ],
      "metadata": {
        "id": "fJxeTJUKdNno"
      },
      "execution_count": null,
      "outputs": []
    },
    {
      "cell_type": "markdown",
      "source": [
        "### Dataset Information"
      ],
      "metadata": {
        "id": "JlHwYmJAmNHm"
      }
    },
    {
      "cell_type": "code",
      "source": [
        "# Dataset Info\n",
        "df.info()"
      ],
      "metadata": {
        "id": "e9hRXRi6meOf"
      },
      "execution_count": null,
      "outputs": []
    },
    {
      "cell_type": "markdown",
      "source": [
        "#### Duplicate Values"
      ],
      "metadata": {
        "id": "35m5QtbWiB9F"
      }
    },
    {
      "cell_type": "code",
      "source": [
        "# Dataset Duplicate Value Count\n",
        "df[df.duplicated()].shape"
      ],
      "metadata": {
        "id": "1sLdpKYkmox0"
      },
      "execution_count": null,
      "outputs": []
    },
    {
      "cell_type": "markdown",
      "source": [
        "#### Missing Values/Null Values"
      ],
      "metadata": {
        "id": "PoPl-ycgm1ru"
      }
    },
    {
      "cell_type": "code",
      "source": [
        "# Missing Values/Null Values Count and sort for descending order to see the which column has most missing values\n",
        "df.isnull().sum().sort_values(ascending =False)"
      ],
      "metadata": {
        "id": "GgHWkxvamxVg"
      },
      "execution_count": null,
      "outputs": []
    },
    {
      "cell_type": "markdown",
      "source": [
        "With the above code we can see Company, agent, country and children column has missing values. Country has 112593, agent has 16340, country has 488 and children has 4 missing values"
      ],
      "metadata": {
        "id": "oF5U8zYpcBcM"
      }
    },
    {
      "cell_type": "code",
      "source": [
        "#replacing company coloumn missing values with 0\n",
        "df['company'] = df['company'].fillna(0)\n",
        "df.head()"
      ],
      "metadata": {
        "id": "eBqlMXuEb_2Z"
      },
      "execution_count": null,
      "outputs": []
    },
    {
      "cell_type": "code",
      "source": [
        "#agent column also has numeric value\n",
        "#replacing all Null values of agent column with 0\n",
        "df['agent']=df['agent'].fillna(0)\n",
        "df.head()"
      ],
      "metadata": {
        "id": "e1TSQHSSf5Tu"
      },
      "execution_count": null,
      "outputs": []
    },
    {
      "cell_type": "code",
      "source": [
        "#replacing all null values of country column with its mode value and using inplace for a permanent chage\n",
        "df['country']=df['country'].fillna(df['country'].mode().to_string())"
      ],
      "metadata": {
        "id": "-tVN2KuJpMxt"
      },
      "execution_count": null,
      "outputs": []
    },
    {
      "cell_type": "markdown",
      "source": [
        "Country column represent the different country codes. Hence, filled null values with mode"
      ],
      "metadata": {
        "id": "-lylD6iGtiDN"
      }
    },
    {
      "cell_type": "code",
      "source": [
        "# replacing missing values of children column\n",
        "df['children']=df['children'].fillna(df['children'].mean())"
      ],
      "metadata": {
        "id": "TpyTjHjOnagE"
      },
      "execution_count": null,
      "outputs": []
    },
    {
      "cell_type": "markdown",
      "source": [
        "Replacing null values of children column with mean as it contains the count of childrens"
      ],
      "metadata": {
        "id": "cVoEbZVLwLI8"
      }
    },
    {
      "cell_type": "code",
      "source": [
        "# Visualizing the missing values\n",
        "sns.heatmap(df.isnull())"
      ],
      "metadata": {
        "id": "3q5wnI3om9sJ"
      },
      "execution_count": null,
      "outputs": []
    },
    {
      "cell_type": "markdown",
      "source": [
        "### What did you know about your dataset?"
      ],
      "metadata": {
        "id": "H0kj-8xxnORC"
      }
    },
    {
      "cell_type": "markdown",
      "source": [
        "The dataset contains information about hotel bookings. We have to analysie and find the factor that leads to hotel bookings and cancellation bookings. The cancellation depends of variour factors like facilitites provided by the hotel like parking spaces, meal and other things that make people like more convienent and also daily rates of the bookings."
      ],
      "metadata": {
        "id": "gfoNAAC-nUe_"
      }
    },
    {
      "cell_type": "markdown",
      "source": [
        "## ***2. Understanding Your Variables***"
      ],
      "metadata": {
        "id": "nA9Y7ga8ng1Z"
      }
    },
    {
      "cell_type": "code",
      "source": [
        "# Dataset Columns\n",
        "df.columns"
      ],
      "metadata": {
        "id": "j7xfkqrt5Ag5"
      },
      "execution_count": null,
      "outputs": []
    },
    {
      "cell_type": "code",
      "source": [
        "# Dataset Describe\n",
        "df.describe()"
      ],
      "metadata": {
        "id": "DnOaZdaE5Q5t"
      },
      "execution_count": null,
      "outputs": []
    },
    {
      "cell_type": "markdown",
      "source": [
        "### Variables Description"
      ],
      "metadata": {
        "id": "PBTbrJXOngz2"
      }
    },
    {
      "cell_type": "markdown",
      "source": [
        "* **Hotel**: Type of hotel resort hotel or City Hotel\n",
        "* **Is_canceled**: Status of booking, if it was canceled or not\n",
        "* **lead_time**: number of days between the hotel booking date and actual arrival date\n",
        "* **arrival_date_year**: Year of arrival date\n",
        "* **arrival_date_month**: Month of arrival date\n",
        "* **arrival_date_week_number**: Week number of arrival date\n",
        "* **arrival_date_day_of_month**: Day of arrival date\n",
        "* **stays_in_weekend_nights**: Number of weekend nights customer stayed in hotel\n",
        "* **stays_in_week_nights**: Number of week nights customer stayed in hotel\n",
        "* **adults**: Number of adults\n",
        "* **children**: Number of childrens\n",
        "* **babies**: Number of babies\n",
        "* **meal**: Type of meal opted (BB: Bed & Breakfast, FB: Full Board(breakfast, lunch and dinner), HB: Half Board (Breakfast and Dinner normally), SC: self catering(no meal))\n",
        "* **country**: Country code\n",
        "* **market_segment**: Customer segment belongs to\n",
        "* **distribution_channel**: how the customer accessed the stay - corporate, Direct, GDS, TA/TO\n",
        "* **is_repeated_guest**: How many times customer has stayed in the same hotel before, whethen its a first time or not\n",
        "* **previous_cancellations**: If previously booking was canceled or not\n",
        "* **previous_bookings_not_canceled**: count of previous bookings\n",
        "* **reserved_room_type**: type of room reserved\n",
        "* **assigned_room_type**: Type of room assigned\n",
        "* **booking_changes**: How many times changes made to booking\n",
        "* **deposit_type**: Type of deposit\n",
        "* **agent**: Booking made through agent\n",
        "* **company**: Booked through company\n",
        "* **days_in_waiting_list**: Number of days in waiting list\n",
        "* **customer_type**: Type of customer\n",
        "* **adr**: average daily rate\n",
        "* **required_car_parking_spaces**: If car parking is required or not\n",
        "* **total_of_special_requests**: Number of special additional requests\n",
        "* **reservation_status**: status of reservation\n",
        "* **reservation_status_date**: Date of reservation\n",
        "\n"
      ],
      "metadata": {
        "id": "aJV4KIxSnxay"
      }
    },
    {
      "cell_type": "markdown",
      "source": [
        "### Check Unique Values for each variable."
      ],
      "metadata": {
        "id": "u3PMJOP6ngxN"
      }
    },
    {
      "cell_type": "code",
      "source": [
        "# Check Unique Values for each variable.\n",
        "for i in df.columns.tolist():\n",
        "  print('unique value in', i, 'is', dataset[i].nunique())"
      ],
      "metadata": {
        "id": "zms12Yq5n-jE"
      },
      "execution_count": null,
      "outputs": []
    },
    {
      "cell_type": "markdown",
      "source": [
        "## 3. ***Data Wrangling***"
      ],
      "metadata": {
        "id": "dauF4eBmngu3"
      }
    },
    {
      "cell_type": "markdown",
      "source": [
        "### Data Wrangling Code"
      ],
      "metadata": {
        "id": "bKJF3rekwFvQ"
      }
    },
    {
      "cell_type": "code",
      "source": [
        "# Write your code to make your dataset analysis ready.\n",
        "\n",
        "#assigning all the canceled booking of both hotel type to variable canceled_booking_df\n",
        "canceled_booking_df = df[df['is_canceled']==1]\n",
        "\n",
        "#assigning all the not canceled booking of both hotel type to vairable not_canceled_booking_df\n",
        "not_canceled_booking_df = df[df['is_canceled']==0]"
      ],
      "metadata": {
        "id": "wk-9a2fpoLcV"
      },
      "execution_count": null,
      "outputs": []
    },
    {
      "cell_type": "code",
      "source": [
        "#total booking count for each hotel type\n",
        "pd.DataFrame(df.value_counts('hotel').reset_index())"
      ],
      "metadata": {
        "id": "noUaDovdSd9T"
      },
      "execution_count": null,
      "outputs": []
    },
    {
      "cell_type": "code",
      "source": [
        "#only canceled bookings groupby hotel type\n",
        "pd.DataFrame(canceled_booking_df.groupby('hotel')['is_canceled'].value_counts().reset_index())"
      ],
      "metadata": {
        "id": "oT4UrUY470r5"
      },
      "execution_count": null,
      "outputs": []
    },
    {
      "cell_type": "code",
      "source": [
        "#not canceled bookings groupby hotel type\n",
        "not_canceled_booking_df.groupby('hotel')['is_canceled'].value_counts().reset_index()"
      ],
      "metadata": {
        "id": "jkmDiA2r9K8q"
      },
      "execution_count": null,
      "outputs": []
    },
    {
      "cell_type": "code",
      "source": [
        "#total booking count for each hotel type with canceled booking count assigning to a variable hotel_count\n",
        "hotel_count = df.groupby('hotel')['is_canceled'].agg(['count', 'sum']).reset_index()\n",
        "hotel_count"
      ],
      "metadata": {
        "id": "R9o4CMWEkt-K"
      },
      "execution_count": null,
      "outputs": []
    },
    {
      "cell_type": "code",
      "source": [
        "#calculate which hotel has higher cancellation ratio and assigining the value to the column name cancel_ratio\n",
        "hotel_count['cancel_ratio'] = hotel_count['sum'] / hotel_count['count']\n",
        "hotel_count"
      ],
      "metadata": {
        "id": "BzR6jOWekt6o"
      },
      "execution_count": null,
      "outputs": []
    },
    {
      "cell_type": "markdown",
      "source": [
        "With this we found the City hotel has more canceled bookings than Resort hotel. Its cancellation ratio is higher than resort hotel"
      ],
      "metadata": {
        "id": "--UJ4HVCyoff"
      }
    },
    {
      "cell_type": "code",
      "source": [
        "#assigning all the resort hotel booking to a variable resort_hotel_df\n",
        "resort_hotel_df = df[df['hotel']=='Resort Hotel']\n",
        "# resort_hotel_df"
      ],
      "metadata": {
        "id": "mtkf4LIpkt3y"
      },
      "execution_count": null,
      "outputs": []
    },
    {
      "cell_type": "code",
      "source": [
        "#assigning all the city hotel booking to a variable city_hotel_df\n",
        "city_hotel_df = df[df['hotel']=='City Hotel']\n",
        "# city_hotel_df"
      ],
      "metadata": {
        "id": "__vIZDZKktzt"
      },
      "execution_count": null,
      "outputs": []
    },
    {
      "cell_type": "code",
      "source": [
        "# groupby all arrival_date_year not canceled bookings of all resort hotel\n",
        "resort_hotel_df[resort_hotel_df['is_canceled']==0].groupby('arrival_date_year')['is_canceled'].value_counts().reset_index()"
      ],
      "metadata": {
        "id": "zboLM2g00BeH"
      },
      "execution_count": null,
      "outputs": []
    },
    {
      "cell_type": "markdown",
      "source": [
        "With this we found 2016 had more resort hotel bookings"
      ],
      "metadata": {
        "id": "MF89d3Iq35Tf"
      }
    },
    {
      "cell_type": "code",
      "source": [
        "# groupby all arrival_date_year canceled bookings of resort hotel\n",
        "resort_hotel_df[resort_hotel_df['is_canceled']==1].groupby('arrival_date_year')['is_canceled'].value_counts().reset_index()"
      ],
      "metadata": {
        "id": "Qo6i9dohjhRa"
      },
      "execution_count": null,
      "outputs": []
    },
    {
      "cell_type": "markdown",
      "source": [
        "With this we 2016 and 2017 resort hotel had more cancellations"
      ],
      "metadata": {
        "id": "U2NmOkIk5GpR"
      }
    },
    {
      "cell_type": "code",
      "source": [
        "city_hotel_df[city_hotel_df['is_canceled']==0].groupby('arrival_date_year')['is_canceled'].value_counts().reset_index()"
      ],
      "metadata": {
        "id": "weoJIjLq5Frp"
      },
      "execution_count": null,
      "outputs": []
    },
    {
      "cell_type": "markdown",
      "source": [
        "It shows 2016 had more city hotel bookings"
      ],
      "metadata": {
        "id": "fBQuDeAbLKTw"
      }
    },
    {
      "cell_type": "code",
      "source": [
        "city_hotel_df[city_hotel_df['is_canceled']==1].groupby('arrival_date_year')['is_canceled'].value_counts().reset_index()"
      ],
      "metadata": {
        "id": "5l-erCM1jhOv"
      },
      "execution_count": null,
      "outputs": []
    },
    {
      "cell_type": "markdown",
      "source": [
        "in 2016 and 2017 city hotel had more cancellations"
      ],
      "metadata": {
        "id": "yXc1IaPsLTnz"
      }
    },
    {
      "cell_type": "code",
      "source": [
        "# assigning booking yearwise to the variable df_2015, df_2016, df_2017\n",
        "df_2015= not_canceled_booking_df[not_canceled_booking_df['arrival_date_year']==2015]\n",
        "df_2016 = not_canceled_booking_df[not_canceled_booking_df['arrival_date_year']==2016]\n",
        "df_2017= not_canceled_booking_df[not_canceled_booking_df['arrival_date_year']==2017]"
      ],
      "metadata": {
        "id": "oV6DbLBqLS37"
      },
      "execution_count": null,
      "outputs": []
    },
    {
      "cell_type": "code",
      "source": [
        "#groupby 2015 bookings with arrival_date_mont and assigned to a variable df_2015_mean\n",
        "df_2015_mean = df_2015.groupby('arrival_date_month')['is_canceled'].value_counts().reset_index()\n",
        "df_2015_mean"
      ],
      "metadata": {
        "id": "SEVPgAT2Tuv4"
      },
      "execution_count": null,
      "outputs": []
    },
    {
      "cell_type": "code",
      "source": [
        "#calculating the month count has more booking that its year booking count mean\n",
        "df_2015_mean[df_2015_mean['count']>df_2015_mean['count'].mean()]"
      ],
      "metadata": {
        "id": "ofdmLLznPnx2"
      },
      "execution_count": null,
      "outputs": []
    },
    {
      "cell_type": "code",
      "source": [
        "#groupby 2016 bookings with arrival_date_mont and assigned to a variable df_2016_mean\n",
        "df_2016_mean = df_2016.groupby('arrival_date_month')['is_canceled'].value_counts().reset_index()\n",
        "df_2016_mean"
      ],
      "metadata": {
        "id": "07Xso9vtTusq"
      },
      "execution_count": null,
      "outputs": []
    },
    {
      "cell_type": "code",
      "source": [
        "#calculating the month count has more booking that its year booking count mean\n",
        "df_2016_mean[df_2016_mean['count']>df_2016_mean['count'].mean()]"
      ],
      "metadata": {
        "id": "U7d79yGcciCJ"
      },
      "execution_count": null,
      "outputs": []
    },
    {
      "cell_type": "code",
      "source": [
        "#groupby 2017 bookings with arrival_date_mont and assigned to a variable df_2017_mean\n",
        "df_2017_mean = df_2017.groupby('arrival_date_month')['is_canceled'].value_counts().reset_index()\n",
        "df_2017_mean"
      ],
      "metadata": {
        "id": "VYR04ci0jhMJ"
      },
      "execution_count": null,
      "outputs": []
    },
    {
      "cell_type": "code",
      "source": [
        "#calculating the month count has more booking that its year booking count mean\n",
        "df_2017_mean[df_2017_mean['count']>df_2017_mean['count'].mean()]"
      ],
      "metadata": {
        "id": "axSiDxt1bQs0"
      },
      "execution_count": null,
      "outputs": []
    },
    {
      "cell_type": "markdown",
      "source": [
        "With this we find out for yearwise bookings in 2015 October and September were the peak season. In 2016, from April to October were the peak season and In 2017, April to July were the peak season"
      ],
      "metadata": {
        "id": "Yjl4kekljfOd"
      }
    },
    {
      "cell_type": "code",
      "source": [
        "# groupby all the bookings by country code in descending order and asigned to a variable country_df\n",
        "country_df = not_canceled_booking_df.groupby('country')['is_canceled'].value_counts().reset_index().sort_values(by = 'count', ascending=False)"
      ],
      "metadata": {
        "id": "XAIZRQCAbQpO"
      },
      "execution_count": null,
      "outputs": []
    },
    {
      "cell_type": "code",
      "source": [
        "country_df[country_df['count']>country_df['count'].mean()]"
      ],
      "metadata": {
        "id": "yURwXMZxbQk_"
      },
      "execution_count": null,
      "outputs": []
    },
    {
      "cell_type": "markdown",
      "source": [
        "With this we found most of the bookings were made from European country and Portugal had the highest bookings"
      ],
      "metadata": {
        "id": "BSZpJsG_v4E2"
      }
    },
    {
      "cell_type": "code",
      "source": [
        "# groupby repeated guest bookings with country code\n",
        "not_canceled_booking_df[not_canceled_booking_df['is_repeated_guest']==1].groupby('country')['is_canceled'].value_counts().reset_index().sort_values(by = 'count', ascending = False)"
      ],
      "metadata": {
        "id": "jvGFqXzAvwaM"
      },
      "execution_count": null,
      "outputs": []
    },
    {
      "cell_type": "markdown",
      "source": [
        "With this we found most of the repeated guest were from Portugal with a count of 2724 bookings. However the count of repeated guest very less"
      ],
      "metadata": {
        "id": "atJfUHs_8W3T"
      }
    },
    {
      "cell_type": "code",
      "source": [
        "# groupby all bookings by meal for each country\n",
        "not_canceled_booking_df.groupby('meal')['country'].value_counts().reset_index().sort_values(by = 'count', ascending=False)"
      ],
      "metadata": {
        "id": "2NriIEFk-IVz"
      },
      "execution_count": null,
      "outputs": []
    },
    {
      "cell_type": "markdown",
      "source": [
        "with this we found most of the guest prefred Bed and Breakfast meal"
      ],
      "metadata": {
        "id": "5b9CGrgV_3AJ"
      }
    },
    {
      "cell_type": "code",
      "source": [
        "# groupby all the bookings with distribution_channel\n",
        "not_canceled_booking_df.groupby('distribution_channel')['is_canceled'].value_counts().reset_index().sort_values(by = 'count', ascending= False)"
      ],
      "metadata": {
        "id": "283aWGPp-IJT"
      },
      "execution_count": null,
      "outputs": []
    },
    {
      "cell_type": "markdown",
      "source": [
        "Most customers access booking through TA/TO"
      ],
      "metadata": {
        "id": "S9Ca4wz3MtqZ"
      }
    },
    {
      "cell_type": "markdown",
      "source": [
        "### What all manipulations have you done and insights you found?"
      ],
      "metadata": {
        "id": "MSa1f5Uengrz"
      }
    },
    {
      "cell_type": "markdown",
      "source": [
        "As per the research I found people prefred City hotels more than Reort hotels. The total Resort hotel booking were 33102 and City hotels bookings were 11122. There were bookings that customers canceled after making it. The cancelation ratio of City Hotels is more than the Resort Hotels. To get the factors customer prefers while making a booking. I initialize all canceled and not canceled bookings in different variables and find both hotel types Resort hotel and City hotel had most of their bookings in 2016 and most of their cancellation in 2016 and 2017. Then, I initialize the bookings yearwise and find the all the bookings monthwise and found April to October was the peak season in 2016. For 2017, it was April to August and for 2015, it was September to October. Most of the bookings were from European countires and they prefer Bed and Breakfast meal. The rebooking ratio as compare to fresh bookings were really low."
      ],
      "metadata": {
        "id": "LbyXE7I1olp8"
      }
    },
    {
      "cell_type": "markdown",
      "source": [
        "## ***4. Data Vizualization, Storytelling & Experimenting with charts : Understand the relationships between variables***"
      ],
      "metadata": {
        "id": "GF8Ens_Soomf"
      }
    },
    {
      "cell_type": "markdown",
      "source": [
        "#### Chart - 1"
      ],
      "metadata": {
        "id": "0wOQAZs5pc--"
      }
    },
    {
      "cell_type": "code",
      "source": [
        "# Chart - 1 visualization code\n",
        "df['hotel'].value_counts().plot.pie(x = 'City Hotel', y = 'Resort hotel', autopct=\"%1.1f%%\", title = 'Hotel', figsize=(6,6))"
      ],
      "metadata": {
        "id": "7v_ESjsspbW7"
      },
      "execution_count": null,
      "outputs": []
    },
    {
      "cell_type": "markdown",
      "source": [
        "##### 1. Why did you pick the specific chart?"
      ],
      "metadata": {
        "id": "K5QZ13OEpz2H"
      }
    },
    {
      "cell_type": "markdown",
      "source": [
        "The dataset contains the information about the booking of two hotel types Resort Hotel and City Hotel. Pie chart helps to compare the percentage of whole data. Hence, I used Pie chart to see the booking perentage of each hotel type"
      ],
      "metadata": {
        "id": "XESiWehPqBRc"
      }
    },
    {
      "cell_type": "markdown",
      "source": [
        "##### 2. What is/are the insight(s) found from the chart?"
      ],
      "metadata": {
        "id": "lQ7QKXXCp7Bj"
      }
    },
    {
      "cell_type": "markdown",
      "source": [
        "From the above Pie chart we can see City hotel has 66.4% of bookings while Resort hotel has 33.6% of bookings"
      ],
      "metadata": {
        "id": "C_j1G7yiqdRP"
      }
    },
    {
      "cell_type": "markdown",
      "source": [
        "##### 3. Will the gained insights help creating a positive business impact?\n",
        "Are there any insights that lead to negative growth? Justify with specific reason."
      ],
      "metadata": {
        "id": "448CDAPjqfQr"
      }
    },
    {
      "cell_type": "markdown",
      "source": [
        "From the above chart its shows Customer prefer city hotels more than Resort hotels. It doesn't have any negative impact on the business"
      ],
      "metadata": {
        "id": "3cspy4FjqxJW"
      }
    },
    {
      "cell_type": "markdown",
      "source": [
        "#### Chart - 2"
      ],
      "metadata": {
        "id": "KSlN3yHqYklG"
      }
    },
    {
      "cell_type": "code",
      "source": [
        "# Chart - 2 visualization code\n",
        "plt.figure(figsize=(12,6))\n",
        "sns.countplot(x = 'arrival_date_month', hue = 'hotel', data = df, palette= ['r','g'])\n",
        "plt.title('Months of Arrival')\n",
        "plt.show()"
      ],
      "metadata": {
        "id": "R4YgtaqtYklH"
      },
      "execution_count": null,
      "outputs": []
    },
    {
      "cell_type": "markdown",
      "source": [
        "##### 1. Why did you pick the specific chart?"
      ],
      "metadata": {
        "id": "t6dVpIINYklI"
      }
    },
    {
      "cell_type": "markdown",
      "source": [
        "Countplot chart shows the counting of observation of each category. To check which month has the maximum arriving. Countplot helps to count the bookings for each month. Thus, I used countplot to see the maximum arrival of the month."
      ],
      "metadata": {
        "id": "5aaW0BYyYklI"
      }
    },
    {
      "cell_type": "markdown",
      "source": [
        "##### 2. What is/are the insight(s) found from the chart?"
      ],
      "metadata": {
        "id": "ijmpgYnKYklI"
      }
    },
    {
      "cell_type": "markdown",
      "source": [
        "From the above graph we can see, November to March were off peak season and April to August were the peak season"
      ],
      "metadata": {
        "id": "PSx9atu2YklI"
      }
    },
    {
      "cell_type": "markdown",
      "source": [
        "##### 3. Will the gained insights help creating a positive business impact?\n",
        "Are there any insights that lead to negative growth? Justify with specific reason."
      ],
      "metadata": {
        "id": "-JiQyfWJYklI"
      }
    },
    {
      "cell_type": "markdown",
      "source": [
        "Yes, it helps hotel owners to make the changes in the discount in the bookings that attract customers most in the peak season. With the help of above chart hotel owners will have an idea when they will have to do be extra prepar which give them more business."
      ],
      "metadata": {
        "id": "BcBbebzrYklV"
      }
    },
    {
      "cell_type": "markdown",
      "source": [
        "#### Chart - 3"
      ],
      "metadata": {
        "id": "EM7whBJCYoAo"
      }
    },
    {
      "cell_type": "code",
      "source": [
        "# Chart - 3 visualization code\n",
        "plt.figure(figsize=(10,6))\n",
        "sns.countplot(x = 'arrival_date_year', hue = 'hotel', data = df, palette= ['g','y'])\n",
        "plt.title('Year of arrival')\n",
        "plt.show()"
      ],
      "metadata": {
        "id": "t6GMdE67YoAp"
      },
      "execution_count": null,
      "outputs": []
    },
    {
      "cell_type": "markdown",
      "source": [
        "##### 1. Why did you pick the specific chart?"
      ],
      "metadata": {
        "id": "fge-S5ZAYoAp"
      }
    },
    {
      "cell_type": "markdown",
      "source": [
        "Countplot chart shows the counting of observation of each category. To check which year has the maximum arriving. Countplot helps to count the bookings for each year. Thus, I used countplot to see the maximum arrival of the Year."
      ],
      "metadata": {
        "id": "5dBItgRVYoAp"
      }
    },
    {
      "cell_type": "markdown",
      "source": [
        "##### 2. What is/are the insight(s) found from the chart?"
      ],
      "metadata": {
        "id": "85gYPyotYoAp"
      }
    },
    {
      "cell_type": "markdown",
      "source": [
        "From the above chart we can see peak year for both hotel type was 2016. Furthermore, Every year City hotel had more bookings than resort hotel."
      ],
      "metadata": {
        "id": "4jstXR6OYoAp"
      }
    },
    {
      "cell_type": "markdown",
      "source": [
        "##### 3. Will the gained insights help creating a positive business impact?\n",
        "Are there any insights that lead to negative growth? Justify with specific reason."
      ],
      "metadata": {
        "id": "RoGjAbkUYoAp"
      }
    },
    {
      "cell_type": "markdown",
      "source": [
        "with the help of above graph hotel owners can finds out what they did specially in 2016 that gives them more bookings."
      ],
      "metadata": {
        "id": "zfJ8IqMcYoAp"
      }
    },
    {
      "cell_type": "markdown",
      "source": [
        "#### Chart - 4"
      ],
      "metadata": {
        "id": "4Of9eVA-YrdM"
      }
    },
    {
      "cell_type": "code",
      "source": [
        "# Chart - 4 visualization code\n",
        "sns.countplot(x = 'is_canceled', hue = 'hotel', data=df)\n",
        "plt.title('Cancelation Status')"
      ],
      "metadata": {
        "id": "irlUoxc8YrdO"
      },
      "execution_count": null,
      "outputs": []
    },
    {
      "cell_type": "markdown",
      "source": [
        "##### 1. Why did you pick the specific chart?"
      ],
      "metadata": {
        "id": "iky9q4vBYrdO"
      }
    },
    {
      "cell_type": "markdown",
      "source": [
        "Countplot chart shows the counting of observation of each category. To check which hote type has more cancelation and more bookings. Countplot helps to count the bookings and cancelation for each hotel type. Thus, I used countplot to see the cancelation ratio for each hotel type."
      ],
      "metadata": {
        "id": "aJRCwT6DYrdO"
      }
    },
    {
      "cell_type": "markdown",
      "source": [
        "##### 2. What is/are the insight(s) found from the chart?"
      ],
      "metadata": {
        "id": "F6T5p64dYrdO"
      }
    },
    {
      "cell_type": "markdown",
      "source": [
        "In the above countplot graph we can see City hotel had more booking and cancelation than resort hotel."
      ],
      "metadata": {
        "id": "Xx8WAJvtYrdO"
      }
    },
    {
      "cell_type": "markdown",
      "source": [
        "##### 3. Will the gained insights help creating a positive business impact?\n",
        "Are there any insights that lead to negative growth? Justify with specific reason."
      ],
      "metadata": {
        "id": "y-Ehk30pYrdP"
      }
    },
    {
      "cell_type": "markdown",
      "source": [
        "It helps to identify which hotel type has more cancelations and more bookings"
      ],
      "metadata": {
        "id": "jLNxxz7MYrdP"
      }
    },
    {
      "cell_type": "markdown",
      "source": [
        "#### Chart - 5"
      ],
      "metadata": {
        "id": "bamQiAODYuh1"
      }
    },
    {
      "cell_type": "code",
      "source": [
        "# Chart - 5 visualization code\n",
        "sns.barplot(x= list(df['country'].value_counts().head(10).index), y = list(df['country'].value_counts().head(10)))\n",
        "plt.title('Highest guest count of each country')"
      ],
      "metadata": {
        "id": "TIJwrbroYuh3"
      },
      "execution_count": null,
      "outputs": []
    },
    {
      "cell_type": "markdown",
      "source": [
        "##### 1. Why did you pick the specific chart?"
      ],
      "metadata": {
        "id": "QHF8YVU7Yuh3"
      }
    },
    {
      "cell_type": "markdown",
      "source": [
        "Bar chart shows the relation between numeric and categoric variable. We need to find the country with highest visiter count. Hence, barplot shows the relation between the country and count of the visitors"
      ],
      "metadata": {
        "id": "dcxuIMRPYuh3"
      }
    },
    {
      "cell_type": "markdown",
      "source": [
        "##### 2. What is/are the insight(s) found from the chart?"
      ],
      "metadata": {
        "id": "GwzvFGzlYuh3"
      }
    },
    {
      "cell_type": "markdown",
      "source": [
        "The above chart shows most of the bookings were made from Portugal"
      ],
      "metadata": {
        "id": "uyqkiB8YYuh3"
      }
    },
    {
      "cell_type": "markdown",
      "source": [
        "##### 3. Will the gained insights help creating a positive business impact?\n",
        "Are there any insights that lead to negative growth? Justify with specific reason."
      ],
      "metadata": {
        "id": "qYpmQ266Yuh3"
      }
    },
    {
      "cell_type": "markdown",
      "source": [
        "It helps business to find the most visitors are from European countires, as we can see Portugal has the highest bookings followed by Great Britian"
      ],
      "metadata": {
        "id": "_WtzZ_hCYuh4"
      }
    },
    {
      "cell_type": "markdown",
      "source": [
        "#### Chart - 6"
      ],
      "metadata": {
        "id": "OH-pJp9IphqM"
      }
    },
    {
      "cell_type": "code",
      "source": [
        "# Chart - 6 visualization code\n",
        "number_of_guest = df.country.value_counts().head(10).plot(kind = 'bar')\n",
        "for p in number_of_guest.patches:\n",
        "  number_of_guest.annotate(str(p.get_height()), (p.get_x() * 1.005, p.get_height() * 1.005))"
      ],
      "metadata": {
        "id": "kuRf4wtuphqN"
      },
      "execution_count": null,
      "outputs": []
    },
    {
      "cell_type": "markdown",
      "source": [
        "##### 1. Why did you pick the specific chart?"
      ],
      "metadata": {
        "id": "bbFf2-_FphqN"
      }
    },
    {
      "cell_type": "markdown",
      "source": [
        "Bar chart shows the relation between numeric and categoric variable. We need to find the country with highest visiter count. Hence, barplot shows the relation between the country and count of the visitors"
      ],
      "metadata": {
        "id": "loh7H2nzphqN"
      }
    },
    {
      "cell_type": "markdown",
      "source": [
        "##### 2. What is/are the insight(s) found from the chart?"
      ],
      "metadata": {
        "id": "_ouA3fa0phqN"
      }
    },
    {
      "cell_type": "markdown",
      "source": [
        "The most number of guest are from Portugal which we have observed from previous graph now from current graph it is observed that the guests are 48483"
      ],
      "metadata": {
        "id": "VECbqPI7phqN"
      }
    },
    {
      "cell_type": "markdown",
      "source": [
        "##### 3. Will the gained insights help creating a positive business impact?\n",
        "Are there any insights that lead to negative growth? Justify with specific reason."
      ],
      "metadata": {
        "id": "Seke61FWphqN"
      }
    },
    {
      "cell_type": "markdown",
      "source": [
        "It helps business to find the most visitors are from European countires, as we can see Portugal has the highest bookings followed by Great Britian"
      ],
      "metadata": {
        "id": "DW4_bGpfphqN"
      }
    },
    {
      "cell_type": "markdown",
      "source": [
        "#### Chart - 7"
      ],
      "metadata": {
        "id": "PIIx-8_IphqN"
      }
    },
    {
      "cell_type": "code",
      "source": [
        "# Chart - 7 visualization code\n",
        "plt.figure(figsize=(12,6))\n",
        "#not_canceled_booking_df is defined above in the data wrangling secton. checking which segment has made the most bookings\n",
        "sns.countplot(x=\"market_segment\", data = not_canceled_booking_df)\n",
        "plt.title(\"Segments wise booking\")"
      ],
      "metadata": {
        "id": "lqAIGUfyphqO"
      },
      "execution_count": null,
      "outputs": []
    },
    {
      "cell_type": "markdown",
      "source": [
        "##### 1. Why did you pick the specific chart?"
      ],
      "metadata": {
        "id": "t27r6nlMphqO"
      }
    },
    {
      "cell_type": "markdown",
      "source": [
        "Countplot chart shows the counting of observation of each category. To check how customers prefer their stay, Countplot helps to give the count for each Market segment. Thus, I used countplot to see the maximum segment used by the customers."
      ],
      "metadata": {
        "id": "iv6ro40sphqO"
      }
    },
    {
      "cell_type": "markdown",
      "source": [
        "##### 2. What is/are the insight(s) found from the chart?"
      ],
      "metadata": {
        "id": "r2jJGEOYphqO"
      }
    },
    {
      "cell_type": "markdown",
      "source": [
        "Most of the market_segment used Online TA and Offline TA/TO channels which is travel agency and tour operator.Followed by Groups and direct channel."
      ],
      "metadata": {
        "id": "Po6ZPi4hphqO"
      }
    },
    {
      "cell_type": "markdown",
      "source": [
        "##### 3. Will the gained insights help creating a positive business impact?\n",
        "Are there any insights that lead to negative growth? Justify with specific reason."
      ],
      "metadata": {
        "id": "b0JNsNcRphqO"
      }
    },
    {
      "cell_type": "markdown",
      "source": [
        "It helps business to understand which segment customers prefer the most. As we can see from the above graph most of the market_segment used Online TA and Offline TA/TO channels"
      ],
      "metadata": {
        "id": "xvSq8iUTphqO"
      }
    },
    {
      "cell_type": "markdown",
      "source": [
        "#### Chart - 8"
      ],
      "metadata": {
        "id": "BZR9WyysphqO"
      }
    },
    {
      "cell_type": "code",
      "source": [
        "# Chart - 8 visualization code\n",
        "plt.title(\" Percentgae (%) of repeated guests\")\n",
        "df['is_repeated_guest'].value_counts().plot.pie(x=0, y=1, shadow = True, autopct = '%1.1f%%')"
      ],
      "metadata": {
        "id": "TdPTWpAVphqO"
      },
      "execution_count": null,
      "outputs": []
    },
    {
      "cell_type": "markdown",
      "source": [
        "##### 1. Why did you pick the specific chart?"
      ],
      "metadata": {
        "id": "jj7wYXLtphqO"
      }
    },
    {
      "cell_type": "markdown",
      "source": [
        "Pie chart helps to compare the percentage of whole data. I wanted to check the percentage of repeated guest. Hence, I used Pie chart to see the booking perentage of repeated guest."
      ],
      "metadata": {
        "id": "Ob8u6rCTphqO"
      }
    },
    {
      "cell_type": "markdown",
      "source": [
        "##### 2. What is/are the insight(s) found from the chart?"
      ],
      "metadata": {
        "id": "eZrbJ2SmphqO"
      }
    },
    {
      "cell_type": "markdown",
      "source": [
        "Repeated guests are very few which is only 3.2 %. In order to retained the guests , hotels/resort management should take feedback from the guests in order to imporve their services."
      ],
      "metadata": {
        "id": "mZtgC_hjphqO"
      }
    },
    {
      "cell_type": "markdown",
      "source": [
        "##### 3. Will the gained insights help creating a positive business impact?\n",
        "Are there any insights that lead to negative growth? Justify with specific reason."
      ],
      "metadata": {
        "id": "rFu4xreNphqO"
      }
    },
    {
      "cell_type": "markdown",
      "source": [
        "It helps to check the repeated customer ratio to new customers. If customer choosing the same hotel again. It shows they had an amazing expierence while staying at hotel."
      ],
      "metadata": {
        "id": "ey_0qi68phqO"
      }
    },
    {
      "cell_type": "markdown",
      "source": [
        "#### Chart - 9"
      ],
      "metadata": {
        "id": "YJ55k-q6phqO"
      }
    },
    {
      "cell_type": "code",
      "source": [
        "# Chart - 9 visualization code\n",
        "plt.figure(figsize=(18,8))\n",
        "sns.countplot(x='meal', data = df)\n",
        "plt.title(\"Preferred Meal Type\")\n",
        "plt.xlabel('Meal Type')\n",
        "plt.ylabel('Count')"
      ],
      "metadata": {
        "id": "B2aS4O1ophqO"
      },
      "execution_count": null,
      "outputs": []
    },
    {
      "cell_type": "markdown",
      "source": [
        "##### 1. Why did you pick the specific chart?"
      ],
      "metadata": {
        "id": "gCFgpxoyphqP"
      }
    },
    {
      "cell_type": "markdown",
      "source": [
        "Countplot chart shows the counting of observation of each category. To check what meal customers prefer most, Countplot helps to give the count for each Mel type. Thus, I used countplot to see the prefered meal by the customers."
      ],
      "metadata": {
        "id": "TVxDimi2phqP"
      }
    },
    {
      "cell_type": "markdown",
      "source": [
        "##### 2. What is/are the insight(s) found from the chart?"
      ],
      "metadata": {
        "id": "OVtJsKN_phqQ"
      }
    },
    {
      "cell_type": "markdown",
      "source": [
        "BB meal is highly preferable by the customers followed by HB and SC meal"
      ],
      "metadata": {
        "id": "ngGi97qjphqQ"
      }
    },
    {
      "cell_type": "markdown",
      "source": [
        "##### 3. Will the gained insights help creating a positive business impact?\n",
        "Are there any insights that lead to negative growth? Justify with specific reason."
      ],
      "metadata": {
        "id": "lssrdh5qphqQ"
      }
    },
    {
      "cell_type": "markdown",
      "source": [
        "Witht the above graph, it helps to know which meal is prefred by the customers so that hotel staff can serve more varieties in BB meal"
      ],
      "metadata": {
        "id": "tBpY5ekJphqQ"
      }
    },
    {
      "cell_type": "markdown",
      "source": [
        "#### Chart - 10"
      ],
      "metadata": {
        "id": "U2RJ9gkRphqQ"
      }
    },
    {
      "cell_type": "code",
      "source": [
        "# Chart - 10 visualization code\n",
        "plt.title(\"Car parking\")\n",
        "df['required_car_parking_spaces'].value_counts().plot.pie(x=0, y=1, autopct = '%1.1f%%', shadow=True)"
      ],
      "metadata": {
        "id": "GM7a4YP4phqQ"
      },
      "execution_count": null,
      "outputs": []
    },
    {
      "cell_type": "markdown",
      "source": [
        "##### 1. Why did you pick the specific chart?"
      ],
      "metadata": {
        "id": "1M8mcRywphqQ"
      }
    },
    {
      "cell_type": "markdown",
      "source": [
        "Pie chart helps to compare the percentage of whole data. I wanted to check the percentage of Car Parking required to customers or not. Hence, I used Pie chart to see the Car parking demands."
      ],
      "metadata": {
        "id": "8agQvks0phqQ"
      }
    },
    {
      "cell_type": "markdown",
      "source": [
        "##### 2. What is/are the insight(s) found from the chart?"
      ],
      "metadata": {
        "id": "tgIPom80phqQ"
      }
    },
    {
      "cell_type": "markdown",
      "source": [
        "In the above graph we can see only 6.2% of the customers require car parking else 93.8% doesn't require any car parking."
      ],
      "metadata": {
        "id": "Qp13pnNzphqQ"
      }
    },
    {
      "cell_type": "markdown",
      "source": [
        "##### 3. Will the gained insights help creating a positive business impact?\n",
        "Are there any insights that lead to negative growth? Justify with specific reason."
      ],
      "metadata": {
        "id": "JMzcOPDDphqR"
      }
    },
    {
      "cell_type": "markdown",
      "source": [
        "With we can see Hotels can make sure aabout the customers who travel with their own vehicles. Generally while making the hotel bookings this also effects people look for the parking space avaialable or not."
      ],
      "metadata": {
        "id": "R4Ka1PC2phqR"
      }
    },
    {
      "cell_type": "markdown",
      "source": [
        "#### Chart - 11"
      ],
      "metadata": {
        "id": "x-EpHcCOp1ci"
      }
    },
    {
      "cell_type": "code",
      "source": [
        "# Chart - 11 visualization code\n",
        "\n",
        "# assigned all the months from January to December in a new variable new_order\n",
        "new_order = ['January', 'February', 'March', 'April', 'May', 'June', 'July', 'August', 'September',\n",
        "             'October', 'November', 'December']\n",
        "\n",
        "#groupby arrival date month of all the canceled bookings for city hotel by adr mean and assigned it to a variable City_monthly_adr\n",
        "city_monthly_adr=canceled_booking_df[canceled_booking_df['hotel']=='City Hotel'].groupby('arrival_date_month')['adr'].mean().reindex(new_order).reset_index()\n",
        "\n",
        "#groupby arrival date month of all the canceled bookings for resort hotel by adr mean and assigned it to a variable resort_monthly_adr\n",
        "resort_monthly_adr = canceled_booking_df[canceled_booking_df['hotel']=='Resort Hotel'].groupby('arrival_date_month')['adr'].mean().reindex(new_order).reset_index()\n",
        "\n",
        "#merge the both datafrmaes city_monthly_adr and resort_monthly_adr by coulmn arrival_date_month\n",
        "monthly_adr = pd.merge(city_monthly_adr, resort_monthly_adr, on='arrival_date_month')\n",
        "\n",
        "#rename the coumns with city_adr and monthly_adr\n",
        "monthly_adr.columns = ['arrival_date_month', 'city_adr', 'resort_adr']\n",
        "\n",
        "#create bar plot\n",
        "sns.set(style=\"whitegrid\")\n",
        "plt.figure(figsize=(18,6))\n",
        "sns.barplot(x='arrival_date_month', y='value', hue='variable', data=pd.melt(monthly_adr, ['arrival_date_month']))\n",
        "\n",
        "# Set plot labels and title\n",
        "plt.xlabel('Arrival Date Month')\n",
        "plt.ylabel('ADR')\n",
        "plt.title('City ADR vs Resort ADR by Month')\n",
        "plt.legend(title='ADR Type')"
      ],
      "metadata": {
        "id": "DzRbhs9KPSmo"
      },
      "execution_count": null,
      "outputs": []
    },
    {
      "cell_type": "markdown",
      "source": [
        "##### 1. Why did you pick the specific chart?"
      ],
      "metadata": {
        "id": "X_VqEhTip1ck"
      }
    },
    {
      "cell_type": "markdown",
      "source": [
        "Bar chart shows the relation between numeric and categoric variable. We need to find the changes in average daily rate for all canceled bookings between City and Resort Hotel. Hence, barplot shows the relation between the adr per month for City and Resort hotel"
      ],
      "metadata": {
        "id": "-vsMzt_np1ck"
      }
    },
    {
      "cell_type": "markdown",
      "source": [
        "##### 2. What is/are the insight(s) found from the chart?"
      ],
      "metadata": {
        "id": "8zGJKyg5p1ck"
      }
    },
    {
      "cell_type": "markdown",
      "source": [
        "Customers choose the hotel if the bookings charges comes under the budget, in the above graph we can see the adr of city hotel is higher than resort hotels most of the time due to the reason City hotel has more cancellations than Resort hotel"
      ],
      "metadata": {
        "id": "ZYdMsrqVp1ck"
      }
    },
    {
      "cell_type": "markdown",
      "source": [
        "##### 3. Will the gained insights help creating a positive business impact?\n",
        "Are there any insights that lead to negative growth? Justify with specific reason."
      ],
      "metadata": {
        "id": "PVzmfK_Ep1ck"
      }
    },
    {
      "cell_type": "markdown",
      "source": [
        "Daily rates and discounts attract the customers, It help business to control their daily rates. Customer don't wants to go out of budget. As we can see due to higher adr changes in city hotel it has more cancellations compared to resort hotel."
      ],
      "metadata": {
        "id": "druuKYZpp1ck"
      }
    },
    {
      "cell_type": "markdown",
      "source": [
        "## **5. Solution to Business Objective**"
      ],
      "metadata": {
        "id": "JcMwzZxoAimU"
      }
    },
    {
      "cell_type": "markdown",
      "source": [
        "#### What do you suggest the client to achieve Business Objective ?\n",
        "Explain Briefly."
      ],
      "metadata": {
        "id": "8G2x9gOozGDZ"
      }
    },
    {
      "cell_type": "markdown",
      "source": [
        "* Customer Prefer City Hotel more than Resort hotel\n",
        "* City hotel Cancellation ratio is more than resort hotel\n",
        "* Guest mostly prefer BB meal\n",
        "* Guest access their stay through Online TA and Offline TA/TO channels\n",
        "* Mostly European country Guest do the booking\n",
        "* Customers prefer the hotel with more discounts\n",
        "* Adr plays a major role in bookings\n"
      ],
      "metadata": {
        "id": "pASKb0qOza21"
      }
    },
    {
      "cell_type": "markdown",
      "source": [
        "# **Conclusion**"
      ],
      "metadata": {
        "id": "gCX9965dhzqZ"
      }
    },
    {
      "cell_type": "markdown",
      "source": [
        "\n",
        "\n",
        "1. The Pie Chart shows City hotel has 66.4% of bookings while Resort hotel has 33.6% of bookings\n",
        "2. November to March were off peak season and April to August were the peak season\n",
        "3. Peak year for both hotel type was 2016. Furthermore, Every year City hotel had more bookings than resort hotel.\n",
        "4. City hotel had more bookings than Resort hotel, however, the cancellation ratio is also high for City hotel than resort hotel\n",
        "5. Most of the guests came from european countries, with most of guests coming from Portugal.\n",
        "6. The most number of guest made the booking is 48483 from Portugal\n",
        "7. Most of the market_segment used Online TA and Offline TA/TO channels which is travel agency and tour operator.Followed by Groups and direct channel.\n",
        "8. Repeated bookings are very few which is only 3.2 %, however the new bookings were 96.8%\n",
        "9. BB meal is highly preferable by the customers followed by HB and SC meal\n",
        "10. 6.2% of the customers require car parking else 93.8% doesn't require any car parking.\n",
        "11. Adr creates an impact in bookings, if daily rate is higher than expected, customers don't prefer it and ending up cancelling their bookings.\n",
        "12. Adr needs to be controlled in order to prevent cancellations\n",
        "\n"
      ],
      "metadata": {
        "id": "Fjb1IsQkh3yE"
      }
    },
    {
      "cell_type": "markdown",
      "source": [
        "### ***Hurrah! You have successfully completed your EDA Capstone Project !!!***"
      ],
      "metadata": {
        "id": "gIfDvo9L0UH2"
      }
    }
  ]
}